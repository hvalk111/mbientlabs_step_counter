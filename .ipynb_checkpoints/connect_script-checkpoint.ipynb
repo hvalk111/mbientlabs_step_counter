{
 "cells": [
  {
   "cell_type": "code",
   "execution_count": null,
   "metadata": {},
   "outputs": [],
   "source": [
    "from mbientlab.metawear import MetaWear, libmetawear\n",
    "from mbientlab.metawear.cbindings import *"
   ]
  },
  {
   "cell_type": "code",
   "execution_count": null,
   "metadata": {},
   "outputs": [],
   "source": [
    "from mbientlab.warble import *\n",
    "from mbientlab.metawear import *\n",
    "from threading import Event\n",
    "\n",
    "e = Event()\n",
    "address = None\n",
    "def device_discover_task(result):\n",
    "    global address\n",
    "    if (result.has_service_uuid(MetaWear.GATT_SERVICE)):\n",
    "        # grab the first discovered metawear device\n",
    "        address = result.mac\n",
    "        e.set()\n",
    "\n",
    "BleScanner.set_handler(device_discover_task)\n",
    "BleScanner.start()\n",
    "e.wait()\n",
    "\n",
    "BleScanner.stop()"
   ]
  },
  {
   "cell_type": "code",
   "execution_count": null,
   "metadata": {},
   "outputs": [],
   "source": []
  }
 ],
 "metadata": {
  "kernelspec": {
   "display_name": "Python 3",
   "language": "python",
   "name": "python3"
  },
  "language_info": {
   "codemirror_mode": {
    "name": "ipython",
    "version": 3
   },
   "file_extension": ".py",
   "mimetype": "text/x-python",
   "name": "python",
   "nbconvert_exporter": "python",
   "pygments_lexer": "ipython3",
   "version": "3.8.3"
  }
 },
 "nbformat": 4,
 "nbformat_minor": 2
}
